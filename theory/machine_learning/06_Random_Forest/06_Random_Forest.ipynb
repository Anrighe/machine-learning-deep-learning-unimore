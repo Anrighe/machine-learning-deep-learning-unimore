{
 "cells": [
  {
   "cell_type": "markdown",
   "metadata": {},
   "source": [
    "# Random Forest\n",
    "\n",
    "Si classifica nei metodi d'insieme e che fa uso del ***Bagging***. Non ha la componente di metodo d'insieme incorporata, come nel Boosting.\n",
    "\n",
    "Il random forest utilizza l'albero decisionale binario come classificatore base. Il random forest è un metodo di classificazione che consiste nella combinazione di più alberi decisionali. Ogni albero decisionale è costruito su un sottoinsieme di dati estratti casualmente dal dataset originale. Inoltre, per ogni nodo dell'albero, viene selezionato un sottoinsieme casuale di variabili. Il risultato finale è ottenuto dalla media delle previsioni di tutti gli alberi.\n",
    "\n",
    "L'albero a ogni nodo \"pone un quesito\" e tramite esso scelgo una strada fino ad arrivare a una foglia che corrisponde alla classificazione.\n",
    "\n",
    "Si dice che è un modello completamente interpretabile, perché andando a ritroso, posso ricostruire le decisioni che ha fatto il classificatore.\n",
    "\n",
    "---\n"
   ]
  },
  {
   "cell_type": "markdown",
   "metadata": {},
   "source": [
    "# Binary Decision Trees\n",
    "\n",
    "- dati rappresentati come feature vector: $v \\in \\mathbb{R}^N$\n",
    "- <span style=\"color:gold;\">funzione di split</span> del feature vector $f_n(v): \\mathbb{R}^N \\rightarrow \\mathbb{R}$ che ritorna uno scalare equivalente alla domanda che pongo al nodo\n",
    "- Una soglia $t_n \\in \\mathbb{R}$ che rappresenta il valore di soglia per la funzione di split: se sono sotto la soglia vado a sinistra e sopra la soglia a destra (o il contrario)\n",
    "- Classificazioni $P_n(c)$ per ogni nodo $n$ e per ogni classe $c$ che rappresenta la probabilità di appartenenza alla classe $c$ per il nodo $n$.\n",
    "\n",
    "\n",
    "Durante il training dobbiamo imparare la funzione di split per ogni nodo e la soglia. \n",
    "\n",
    "Il classificatore ha per ogni nodo una funzione di split e un valore di soglia.\n",
    "\n",
    "Nelle foglie non c'è un valore ma un istogramma (che viene costruito durante il training): ho sull'asse delle x le classi del mio problema e sull'asse delle y ho il numero degli elementi di training che hanno seguito quel percorso e sono finite in quelle foglie con un preciso valore di classe.\n",
    "\n",
    "![06_Random_Forest1](./images/06_Random_Forest1.png)\n",
    "\n",
    "In fase di test, uso l'istogramma per definire le probabilità che dato un elemento finito in quella foglia tramite un processo decisionale faccia parte delle varie classi.\n",
    "\n",
    "---\n"
   ]
  },
  {
   "cell_type": "markdown",
   "metadata": {},
   "source": [
    "# Principio di funzionamento\n",
    "\n"
   ]
  }
 ],
 "metadata": {
  "language_info": {
   "name": "python"
  }
 },
 "nbformat": 4,
 "nbformat_minor": 2
}
