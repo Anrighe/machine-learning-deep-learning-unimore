{
 "cells": [
  {
   "cell_type": "markdown",
   "metadata": {},
   "source": [
    "# Deep Neural Networks\n",
    "\n",
    "Usando i metodi classici di machine learning fissando le feature, sopra una certa quantità di dati non si otterranno miglioramenti. Questo non è vero per le reti neurali: una rete deep, normalmente, all'aumentare dei dati di training continua a migliorare.\n",
    "\n",
    "![Deep Neural Networks1](images/01_Deep_Neural_Networks.png)\n",
    "\n",
    "Nel caso di un metodo di machine learning tradizionale, all'inizio c'è sempre la fase di ***feature extraction***, che non è collegata alla fase di ottimizzazione del modello in quanto viene fatta prima. Questa cosa però non implica che ci possano essere delle feature migliori.\n",
    "\n",
    "Nel caso del Deep Learning, la parte di ***feature extraction*** e ***apprendimento dei parametri*** sono collegate e vengono quindi fatte insieme. Man mano che fornisco dati di training al sistema cambiano le feature &rarr; il modello di Deep Learning estrae delle feature sempre migliori.\n",
    "\n"
   ]
  },
  {
   "cell_type": "markdown",
   "metadata": {},
   "source": []
  }
 ],
 "metadata": {
  "language_info": {
   "name": "python"
  }
 },
 "nbformat": 4,
 "nbformat_minor": 2
}
