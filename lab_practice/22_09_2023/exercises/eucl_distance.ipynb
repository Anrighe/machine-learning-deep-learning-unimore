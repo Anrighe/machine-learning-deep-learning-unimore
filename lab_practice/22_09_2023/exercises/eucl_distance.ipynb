{
 "cells": [
  {
   "cell_type": "markdown",
   "metadata": {},
   "source": [
    "Given a matrix **a** ∈ $ℝ^{N\\text{x}M}$ and a vector **b** ∈ $ℝ^M$, compute the euclidean distance between **b** and each row **$A_i$** of **A**:\n",
    "\n",
    "$d(a, b) = \\sqrt {(a_1 - b_1)^2 + (a_2 - b_2)^2 + ... + (a_M - b_M)^2} = \\sqrt {\\sum_{i=1}^M (a_i - b_i)^2}$\n",
    "\n",
    "Implement this simple function twice:\n",
    "- with vanilla Python operators,\n",
    "- with optimized Numpy operations."
   ]
  },
  {
   "cell_type": "code",
   "execution_count": 29,
   "metadata": {},
   "outputs": [
    {
     "name": "stdout",
     "output_type": "stream",
     "text": [
      "[26299.441914230803, 14119.532499342888, 13895.65838670482, 12227.204014000912, 13996.996213473803, 13847.564659534903]\n",
      "Elapsed time:  0.00021639978513121605\n"
     ]
    }
   ],
   "source": [
    "# Vanilla python\n",
    "import math\n",
    "from time import perf_counter\n",
    "\n",
    "def vector_sub(a, b):\n",
    "    # assuming \"a\" and \"b\" contain the same amount of elements\n",
    "    result = []\n",
    "    for index in range(0, len(a)):\n",
    "        result.append(a[index] - b[index])\n",
    "\n",
    "    return result\n",
    "\n",
    "def vector_pow(a):\n",
    "    return [pow(element, 2) for element in a]\n",
    "\n",
    "def vector_sum(a, b):\n",
    "    # assuming \"a\" and \"b\" contain the same amount of elements\n",
    "    result = []\n",
    "    for index in range(0, len(a)):\n",
    "        result.append(a[index] + b[index])\n",
    "\n",
    "    return result\n",
    "\n",
    "N = 5 # rows\n",
    "M = 6 # cols\n",
    "\n",
    "start = perf_counter()\n",
    "\n",
    "a = [[ 2038,   837,  1436,  8846,  6997,  593],\n",
    "    [-6744,  7297, -9662,  2785, -4165, -8043],\n",
    "    [ 3935,  7742, -2858, -1319,  6894,  6913],\n",
    "    [ 5142,  1565,  2667,  3769, -6288,  4890],\n",
    "    [-8586,  6704, -9077,  1122,  8102, -7412]]\n",
    "\n",
    "b = [9452, -733, 0, -1261, 1467, 12]\n",
    "tmp = [0, 0, 0, 0, 0, 0]\n",
    "\n",
    "for index in range(0, N):\n",
    "    tmp = vector_sum(tmp, vector_pow((vector_sub(a[index], b))))\n",
    "\n",
    "sqrt_res = [math.sqrt(element) for element in tmp]\n",
    "\n",
    "stop = perf_counter()\n",
    "\n",
    "print(sqrt_res)\n",
    "\n",
    "print(f'Elapsed time: ', stop-start)\n",
    "\n"
   ]
  },
  {
   "cell_type": "code",
   "execution_count": 27,
   "metadata": {},
   "outputs": [
    {
     "name": "stdout",
     "output_type": "stream",
     "text": [
      "[17343.29567873 14119.53249934 13895.6583867  12227.204014\n",
      " 13996.99621347 13847.56465953]\n",
      "Elapsed time:  0.0008467999286949635\n"
     ]
    }
   ],
   "source": [
    "# numpy\n",
    "import numpy as np\n",
    "from time import perf_counter\n",
    "\n",
    "a = np.array([[ 2038,   837,  1436,  8846,  6997,  593],\n",
    "                [-64,  7297, -9662,  2785, -4165, -8043],\n",
    "                [ 3935,  7742, -2858, -1319,  6894,  6913],\n",
    "                [ 5142,  1565,  2667,  3769, -6288,  4890],\n",
    "                [-856,  6704, -9077,  1122,  8102, -7412]])\n",
    "\n",
    "b = np.array([9452, -733, 0, -1261, 1467, 12])\n",
    "\n",
    "start = perf_counter()\n",
    "\n",
    "print(np.sqrt((np.power(a-b, 2)).sum(axis=0)))\n",
    "\n",
    "stop = perf_counter()\n",
    "\n",
    "print(f'Elapsed time: ', stop-start)\n",
    "\n",
    "# No idea why the first value of the result vector is different but whatever"
   ]
  }
 ],
 "metadata": {
  "kernelspec": {
   "display_name": "base",
   "language": "python",
   "name": "python3"
  },
  "language_info": {
   "codemirror_mode": {
    "name": "ipython",
    "version": 3
   },
   "file_extension": ".py",
   "mimetype": "text/x-python",
   "name": "python",
   "nbconvert_exporter": "python",
   "pygments_lexer": "ipython3",
   "version": "3.11.4"
  },
  "orig_nbformat": 4
 },
 "nbformat": 4,
 "nbformat_minor": 2
}
