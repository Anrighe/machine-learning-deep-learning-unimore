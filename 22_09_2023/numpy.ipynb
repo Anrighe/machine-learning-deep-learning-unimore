{
 "cells": [
  {
   "cell_type": "markdown",
   "metadata": {},
   "source": [
    "## Virtual environments:\n",
    "- **conda create -n <venv_name>** — create a new conda environment.\n",
    "- **conda activate <venv_name>** — activate (use) the environment.\n",
    "- **conda deactivate** — deactivate the environment."
   ]
  },
  {
   "cell_type": "code",
   "execution_count": 6,
   "metadata": {},
   "outputs": [
    {
     "name": "stdout",
     "output_type": "stream",
     "text": [
      "int32\n",
      "1\n",
      "(4,)\n",
      "(4, 1)\n",
      "[1 2 3 4 5 6 7 8 9]\n",
      "[[1 2 3]\n",
      " [4 5 6]\n",
      " [7 8 9]]\n",
      "[[14 24 34]\n",
      " [44 54 64]\n",
      " [74 84 94]]\n"
     ]
    }
   ],
   "source": [
    "import numpy as np\n",
    "\n",
    "# Casting as a numpy array\n",
    "A = np.array([1,2,3,4])\n",
    "\n",
    "print(A.dtype) # Type of what is stored in the array ! NOT PYTHON TYPES !\n",
    "\n",
    "print(A.ndim) # Number of dimensions (axes in numpy speak)\n",
    "\n",
    "print(A.shape) # size of the dimensions are expressed a tuple\n",
    "\n",
    "print(A.reshape((4,1)).shape) # a column vector (Transposed ?)\n",
    "\n",
    "# Two dimensional arrays have a 2-tuple shape\n",
    "\n",
    "a = np.array([1,2,3,4,5,6,7,8,9])\n",
    "print(a)\n",
    "b = a.reshape((3,3)) # creates a 3x3 numpy array from the 1x9 array\n",
    "print(b)\n",
    "\n",
    "print(b * 10 + 4)\n"
   ]
  },
  {
   "cell_type": "markdown",
   "metadata": {},
   "source": [
    "### Here are a few of the most important attributes of dtype objects:\n",
    "- **dtype.byteorder** — big or little endian\n",
    "- **dtype.itemsize** — element size of this dtype\n",
    "- **dtype.name** — a name for this dtype object\n",
    "- **dtype.type** — type object used to create scalars\n"
   ]
  },
  {
   "cell_type": "code",
   "execution_count": 13,
   "metadata": {},
   "outputs": [
    {
     "name": "stdout",
     "output_type": "stream",
     "text": [
      "arange:\n",
      " [0 1 2 3 4 5 6 7 8 9]\n",
      "linspace:\n",
      " [0.   0.25 0.5  0.75 1.  ]\n",
      "zeros:\n",
      " [[0. 0.]\n",
      " [0. 0.]]\n",
      "ones:\n",
      " [[1. 1. 1. 1. 1.]]\n",
      "empty:\n",
      " [[1. 1. 1.]]\n",
      "eye:\n",
      " [[1. 0. 0.]\n",
      " [0. 1. 0.]\n",
      " [0. 0. 1.]]\n"
     ]
    }
   ],
   "source": [
    "#Forcing a data type:\n",
    "a = np.array([1,2,3], dtype=np.float32)\n",
    "\n",
    "\n",
    "# Primitives ti create np arrays:\n",
    "print('arange:\\n', np.arange(10)) #creates numpy array of len 10 with values 0-9\n",
    "\n",
    "print('linspace:\\n', np.linspace(0, 1, 5)) # creates numpy array of len 5 with values 0-1\n",
    "\n",
    "print('zeros:\\n', np.zeros((2, 2))) # creates a 2x2 array of zeros\n",
    "\n",
    "print('ones:\\n', np.ones((1, 5))) # creates a 1x5 array of ones\n",
    "\n",
    "print('empty:\\n', np.empty((1, 3))) # creates a 1x3 array of uninitialized values\n",
    "\n",
    "print('eye:\\n', np.eye(3)) # creates a 3x3 identity matrix (diagonal is 1)\n",
    "\n",
    "print('diag:\\n', np.diag(np.array([1, 2, 3, 4]))) # creates a 4x4 matrix with the given values on the diagonal\n"
   ]
  },
  {
   "cell_type": "markdown",
   "metadata": {},
   "source": [
    "![img](img1.png)"
   ]
  },
  {
   "cell_type": "code",
   "execution_count": null,
   "metadata": {},
   "outputs": [],
   "source": [
    "arr[2, 1:] # selects the 2nd row, 2nd column and beyond"
   ]
  },
  {
   "cell_type": "markdown",
   "metadata": {},
   "source": [
    "![img2](img2.png)"
   ]
  },
  {
   "cell_type": "code",
   "execution_count": null,
   "metadata": {},
   "outputs": [],
   "source": [
    "# Simple assigments do not make copies of arrays (same semantics as Python). \n",
    "# Slicing operations do not make copies either; they return views on the original array"
   ]
  },
  {
   "cell_type": "markdown",
   "metadata": {},
   "source": [
    "#### NumPy ufuncs are functions that operate element-wise on one or more arrays:\n",
    "- **comparison**: <, <=, ==, !=, >=, >\n",
    "- **arithmetic**: +, -, *, /, reciprocal, square\n",
    "- **exponential**: exp, expm1, exp2, log, log10, log1p, log2, power, sqrt\n",
    "- **trigonometric**: sin, cos, tan, acsin, arccos, atctan\n",
    "- **hyperbolic**: sinh, cosh, tanh, acsinh, arccosh, atctanh\n",
    "- **bitwise operations**: &, |, ~, ^, left_shift, right_shift\n",
    "- **logical operations**: and, logical_xor, not, or\n",
    "- **predicates**: isfinite, isinf, isnan, signbit\n",
    "- **other**: abs, ceil, floor, mod, modf, round, sinc, sign, trunc\n"
   ]
  },
  {
   "cell_type": "markdown",
   "metadata": {},
   "source": [
    "#### Reduction operation lets you lose one or more dimension\n",
    "- **np.sum()** — sum of all elements\n",
    "Array method reductions take an optional axis parameter that specifies over which axes\n",
    "to reduce (*axis*=None reduces into a single scalar). \n",
    "The axis is the index of the dimension i want to lose:\n",
    "\n",
    "![img3](img3.png)\n",
    "![img4](img4.png)"
   ]
  },
  {
   "cell_type": "markdown",
   "metadata": {},
   "source": [
    "#### Broadcasting: \n",
    "numpy figures out how to do operations on arrays of different shapes"
   ]
  },
  {
   "cell_type": "code",
   "execution_count": 17,
   "metadata": {},
   "outputs": [
    {
     "name": "stdout",
     "output_type": "stream",
     "text": [
      "[[0]\n",
      " [1]\n",
      " [2]\n",
      " [3]]\n",
      "[[0 1 2 3 4]]\n",
      "[[0 1 2 3 4]\n",
      " [1 2 3 4 5]\n",
      " [2 3 4 5 6]\n",
      " [3 4 5 6 7]]\n"
     ]
    }
   ],
   "source": [
    "#Broadcasting example:\n",
    "a = np.arange(4).reshape((4,1))\n",
    "print(a)\n",
    "b = np.arange(5).reshape((1,5))\n",
    "print(b)\n",
    "\n",
    "print(a + b) # a is broadcasted to match the shape of b\n",
    "#numpy repeats the array to match the shape of the other array\n",
    "\n",
    "#adds a 1 to the left and from the right \n",
    "# indexes checks if the dimensions are integer dividable\n",
    "\n",
    "\n",
    "# For the broadcasting I can also use \n",
    "a = np.arange(6).reshape((2, 3))\n",
    "b = np.array([10, 100])\n",
    "a * b[:,np.newaxis] # (2, 3) * (2, 1): Adds a 1 in a particular dimension\n",
    "\n"
   ]
  },
  {
   "cell_type": "markdown",
   "metadata": {},
   "source": [
    "Array Methods:\n",
    "- **Predicates**: a.any(), a.all()\n",
    "- **Reductions**: a.mean(), a.argmin(), a.argmax(),a.trace(),\n",
    "    a.cumsum(), a.cumprod()\n",
    "- **Manipulation**: a.argsort(), a.transpose(), a.reshape(...),\n",
    "    a.ravel(), a.fill(...), a.clip(...)\n",
    "- **Complex Numbers**: a.real, a.imag, a.conj()\n"
   ]
  },
  {
   "cell_type": "code",
   "execution_count": 28,
   "metadata": {},
   "outputs": [
    {
     "name": "stdout",
     "output_type": "stream",
     "text": [
      "[[0 1 0 0 0]\n",
      " [1 0 0 0 1]\n",
      " [1 1 1 1 1]\n",
      " [1 1 1 1 0]\n",
      " [0 0 0 0 1]\n",
      " [0 0 1 1 1]\n",
      " [1 0 0 0 1]\n",
      " [0 1 0 1 1]\n",
      " [1 0 0 0 0]\n",
      " [0 1 0 0 0]]\n",
      "0\n",
      "[ True False  True  True False False False  True False  True]\n"
     ]
    }
   ],
   "source": [
    "# argmin gives the element with the lowest value\n",
    "\n",
    "a = np.random.randint(2, size=(10,5))\n",
    "print(a)\n",
    "print(a.argmin()) # gives the index of the lowest value\n",
    "\n",
    "print((a[:,1]==1).sum()) # counts the number of 1s in the second column"
   ]
  },
  {
   "cell_type": "code",
   "execution_count": 29,
   "metadata": {},
   "outputs": [
    {
     "name": "stdout",
     "output_type": "stream",
     "text": [
      "[[0 1 2]\n",
      " [3 4 5]]\n",
      "[[0 1 2]\n",
      " [3 4 5]]\n"
     ]
    }
   ],
   "source": [
    "# TRANSPOSE OPERATION\n",
    "\n",
    "a = np.arange(6).reshape((2, 3))\n",
    "print(a)\n",
    "\n",
    "a.transpose()\n",
    "print(a)\n",
    "\n",
    "#in case a has more than 2 dim:\n",
    "a = np.arange(24).reshape((2, 3, 4))\n",
    "print(a)\n",
    "\n",
    "# the first dim becomes the second, \n",
    "# the second becomes the third and the third becomes the first\n",
    "a.transpose((1, 2, 0)) \n",
    "\n",
    "# !! NEVER TRUST RESHAPE FOR TRANSPOSITIONS !!\n"
   ]
  },
  {
   "cell_type": "code",
   "execution_count": 3,
   "metadata": {},
   "outputs": [
    {
     "name": "stdout",
     "output_type": "stream",
     "text": [
      "a:\n",
      " [[ 0  1  2  3  4]\n",
      " [ 5  6  7  8  9]\n",
      " [10 11 12 13 14]]\n",
      "b:\n",
      " [[ True False False  True False]\n",
      " [False  True False False  True]\n",
      " [False False  True False False]]\n",
      "Where is the condition true in a?\n",
      " [ 0  3  6  9 12]\n"
     ]
    }
   ],
   "source": [
    "import numpy as np\n",
    "a = np.arange(15).reshape((3, 5))\n",
    "print('a:\\n', a)\n",
    "\n",
    "b = (a % 3 == 0) # creates a boolean array for the condition\n",
    "print('b:\\n', b)\n",
    "\n",
    "# selects the elements of a for which the condition is true\n",
    "print('Where is the condition true in a?\\n', a[b]) \n"
   ]
  },
  {
   "cell_type": "markdown",
   "metadata": {},
   "source": [
    "## NumPy Functions\n",
    "- **Data I/O**: fromfile, genfromtxt, load, loadtxt, save, savetxt\n",
    "- **Mesh Creation**: mgrid, meshgrid, ogrid\n",
    "- **Manipulation**: einsum, hstack, take, vstack\n",
    "## Other Subpackages:\n",
    "- **numpy.fft** — Fast Fourier transforms\n",
    "- **numpy.polynomial** — Efficient polynomials\n",
    "- **numpy.linalg** — Linear algebra cholesky, det, eig, eigvals, inv, lstsq, norm, qr, svd\n",
    "- **numpy.math**: — C standard library math functions\n",
    "- **numpy.random** — Random number generation beta, gamma, geometric, hypergeometric, lognormal, normal, poisson, uniform, weibull\n"
   ]
  }
 ],
 "metadata": {
  "kernelspec": {
   "display_name": "base",
   "language": "python",
   "name": "python3"
  },
  "language_info": {
   "codemirror_mode": {
    "name": "ipython",
    "version": 3
   },
   "file_extension": ".py",
   "mimetype": "text/x-python",
   "name": "python",
   "nbconvert_exporter": "python",
   "pygments_lexer": "ipython3",
   "version": "3.11.4"
  },
  "orig_nbformat": 4
 },
 "nbformat": 4,
 "nbformat_minor": 2
}
